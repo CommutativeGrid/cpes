{
 "cells": [
  {
   "cell_type": "code",
   "execution_count": null,
   "id": "a8f583ae",
   "metadata": {},
   "outputs": [],
   "source": [
    "%matplotlib notebook\n",
    "from cpes import *"
   ]
  },
  {
   "cell_type": "code",
   "execution_count": null,
   "id": "aa27d3f8",
   "metadata": {},
   "outputs": [],
   "source": [
    "# construct fcc and hcp lattice by adding layers\n",
    "fcc_stacking=face_centered_cubic(7,radius=1)\n",
    "hcp_stacking=hexagonal_close_packing(7,radius=1)"
   ]
  },
  {
   "cell_type": "code",
   "execution_count": null,
   "id": "f5e62a23",
   "metadata": {},
   "outputs": [],
   "source": [
    "# lattice size is 7x7x7=343\n",
    "print(len(fcc_stacking),len(hcp_stacking))"
   ]
  },
  {
   "cell_type": "code",
   "execution_count": null,
   "id": "eafe19d2",
   "metadata": {
    "scrolled": true
   },
   "outputs": [],
   "source": [
    "#plot fcc\n",
    "fcc_stacking.plot(size=300)"
   ]
  },
  {
   "cell_type": "code",
   "execution_count": null,
   "id": "b888cd9b",
   "metadata": {
    "scrolled": true
   },
   "outputs": [],
   "source": [
    "#plot hcp\n",
    "hcp_stacking.plot(size=300)"
   ]
  },
  {
   "cell_type": "code",
   "execution_count": null,
   "id": "b361fadf",
   "metadata": {},
   "outputs": [],
   "source": [
    "#load the example data from issacs\n",
    "fcc_au = fcc_au_cart()"
   ]
  },
  {
   "cell_type": "code",
   "execution_count": null,
   "id": "a7f4e2b6",
   "metadata": {},
   "outputs": [],
   "source": [
    "# plot all the data\n",
    "fcc_au.plot(size=10)"
   ]
  },
  {
   "cell_type": "code",
   "execution_count": null,
   "id": "33ee808a",
   "metadata": {},
   "outputs": [],
   "source": [
    "#plot part of the data\n",
    "fcc_au.sphere_confine(radius=4).plot(size=40)"
   ]
  },
  {
   "cell_type": "code",
   "execution_count": null,
   "id": "1987e18c",
   "metadata": {},
   "outputs": [],
   "source": []
  }
 ],
 "metadata": {
  "kernelspec": {
   "display_name": "Python 3 (ipykernel)",
   "language": "python",
   "name": "python3"
  },
  "language_info": {
   "codemirror_mode": {
    "name": "ipython",
    "version": 3
   },
   "file_extension": ".py",
   "mimetype": "text/x-python",
   "name": "python",
   "nbconvert_exporter": "python",
   "pygments_lexer": "ipython3",
   "version": "3.9.7"
  }
 },
 "nbformat": 4,
 "nbformat_minor": 5
}
